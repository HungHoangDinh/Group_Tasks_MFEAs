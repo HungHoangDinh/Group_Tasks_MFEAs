{
  "nbformat": 4,
  "nbformat_minor": 0,
  "metadata": {
    "colab": {
      "provenance": [],
      "authorship_tag": "ABX9TyPyyQrngMouHKxhIsNOzO5I",
      "include_colab_link": true
    },
    "kernelspec": {
      "name": "python3",
      "display_name": "Python 3"
    },
    "language_info": {
      "name": "python"
    }
  },
  "cells": [
    {
      "cell_type": "markdown",
      "metadata": {
        "id": "view-in-github",
        "colab_type": "text"
      },
      "source": [
        "<a href=\"https://colab.research.google.com/github/HungHoangDinh/Group_Tasks_MFEAs/blob/main/Group_Task_MFEA.ipynb\" target=\"_parent\"><img src=\"https://colab.research.google.com/assets/colab-badge.svg\" alt=\"Open In Colab\"/></a>"
      ]
    },
    {
      "cell_type": "code",
      "execution_count": 1,
      "metadata": {
        "id": "pJofoRWN-NQd"
      },
      "outputs": [],
      "source": [
        "import numpy as np\n",
        "import random\n",
        "from sklearn.cluster import KMeans\n",
        "import math"
      ]
    },
    {
      "cell_type": "code",
      "source": [
        "dimension=30\n",
        "population_size=250\n",
        "generate=30\n",
        "O_1 = np.random.rand(dimension)\n",
        "O_2 = np.random.rand(dimension)\n",
        "O_3=np.random.rand(dimension)\n",
        "O_4=np.random.rand(dimension)\n",
        "O_5=np.random.rand(dimension)\n",
        "O_6=np.random.rand(dimension)\n",
        "O=[O_1,O_2,O_3,O_4,O_5,O_6]"
      ],
      "metadata": {
        "id": "9vPjNiA0BMdK"
      },
      "execution_count": 11,
      "outputs": []
    },
    {
      "cell_type": "code",
      "source": [
        "def griewank(x,O):\n",
        "    x=x-O;\n",
        "    x=x*1200-600\n",
        "    dimension = len(x)\n",
        "    sum_sq = np.sum(x**2)\n",
        "    prod_cos = np.prod(np.cos(x / np.sqrt(np.arange(1, dimension + 1))))\n",
        "    result = 1 + (1 / 4000) * sum_sq - prod_cos\n",
        "    return result\n",
        "def ackley(x,O):\n",
        "    x=x-O;\n",
        "    x=x*64-32\n",
        "    dimension = len(x)\n",
        "    sum_sq = np.sum(x**2)\n",
        "    cos_term = np.sum(np.cos(2 * np.pi * x))\n",
        "    result = -20 * np.exp(-0.2 * np.sqrt(sum_sq / dimension)) - np.exp(cos_term / dimension) + 20 + np.exp(1)\n",
        "    return result\n",
        "\n",
        "def rastrigin(x,O):\n",
        "    x=x-O\n",
        "    x=x*10-5\n",
        "    A = 10\n",
        "    dimension = len(x)\n",
        "    result = A * dimension + np.sum(x**2 - A * np.cos(2 * np.pi * x))\n",
        "    return result\n",
        "\n",
        "def weierstrass(x,O, a=0.5, b=3, kmax=20):\n",
        "    x=x-O\n",
        "    x=x-0.5\n",
        "    dimension = len(x)\n",
        "    result = 0\n",
        "    for k in range(kmax + 1):\n",
        "        result += np.sum(a**k * np.cos(2 * np.pi * b**k * (x + 0.5)))\n",
        "    result -= dimension * kmax * np.sum(a**k)\n",
        "    return result"
      ],
      "metadata": {
        "id": "o8dX_5xnAlC9"
      },
      "execution_count": 3,
      "outputs": []
    },
    {
      "cell_type": "code",
      "source": [
        "functions=[\"griewank\",\"ackley\",\"rastrigin\",\"weierstrass\"]\n",
        "Tasks=[]\n",
        "for i in range(50):\n",
        "  Tasks.append({\"function\": np.random.choice(functions), \"O\": O[random.randint(0, 5)]})\n"
      ],
      "metadata": {
        "id": "qFGFfItSNeeh"
      },
      "execution_count": 4,
      "outputs": []
    },
    {
      "cell_type": "code",
      "source": [
        "def initialize_population(population_size, dimension):\n",
        "    return np.random.uniform(0, 1, size=(population_size, dimension))"
      ],
      "metadata": {
        "id": "0pbXOQgNA-Oo"
      },
      "execution_count": 5,
      "outputs": []
    },
    {
      "cell_type": "code",
      "source": [
        "def cost(task,O,population):\n",
        "    result = []\n",
        "    for x in population:\n",
        "      result.append(task(x,O));\n",
        "    return np.array(result)"
      ],
      "metadata": {
        "id": "Y6y9zUqM1rbq"
      },
      "execution_count": 6,
      "outputs": []
    },
    {
      "cell_type": "code",
      "source": [
        "def get_best_indivial(task,O,population):\n",
        "    values=[]\n",
        "    if(task==\"griewank\"):\n",
        "      values=cost(griewank,O,population)\n",
        "    if(task==\"ackley\"):\n",
        "      values=cost(ackley,O,population)\n",
        "    if(task==\"rastrigin\"):\n",
        "      values=cost(rastrigin,O,population)\n",
        "    if(task==\"weierstrass\"):\n",
        "      values=cost(weierstrass,O,population)\n",
        "    sorted_indice= np.argsort(values)\n",
        "    selected_indice = sorted_indice[0]\n",
        "    selected_point = population[selected_indice]\n",
        "    return selected_point\n"
      ],
      "metadata": {
        "id": "QtAa9KYK0J7C"
      },
      "execution_count": 7,
      "outputs": []
    },
    {
      "cell_type": "code",
      "source": [
        "def best_invidial_matrix(population):\n",
        "  max_init_Tasks=[]\n",
        "  for i in range(50):\n",
        "    task=Tasks[i][\"function\"]\n",
        "    O_task=Tasks[i][\"O\"]\n",
        "    max_init_Tasks.append(get_best_indivial(task,O_task,population))\n",
        "  return np.array(max_init_Tasks)"
      ],
      "metadata": {
        "id": "EcZ2tNBKzEnT"
      },
      "execution_count": 8,
      "outputs": []
    },
    {
      "cell_type": "code",
      "source": [
        "\n",
        "\n",
        "def bisecting_kmeans(data, k):\n",
        "    clusters = [np.arange(len(data))]\n",
        "    while len(clusters) < k:\n",
        "        # Chọn cluster có độ lệch chuẩn lớn nhất để chia\n",
        "        max_deviation_cluster_index = np.argmax([np.std(data[cluster]) for cluster in clusters])\n",
        "        max_deviation_cluster = data[clusters[max_deviation_cluster_index]]\n",
        "\n",
        "        # Sử dụng K-means để chia cluster lớn thành 2 cluster con\n",
        "        kmeans = KMeans(n_clusters=2)\n",
        "        kmeans.fit(max_deviation_cluster)\n",
        "\n",
        "        # Cập nhật danh sách cluster\n",
        "        new_cluster_indices = np.array_split(clusters[max_deviation_cluster_index], 2)\n",
        "        clusters.pop(max_deviation_cluster_index)\n",
        "        clusters.extend(new_cluster_indices)\n",
        "\n",
        "    return clusters\n"
      ],
      "metadata": {
        "id": "dGGKLpdTkP4T"
      },
      "execution_count": 9,
      "outputs": []
    },
    {
      "cell_type": "code",
      "source": [
        "population=initialize_population(population_size,dimension)\n",
        "BI=best_invidial_matrix(population)"
      ],
      "metadata": {
        "id": "1UEhKEqiYZGm"
      },
      "execution_count": 10,
      "outputs": []
    },
    {
      "cell_type": "code",
      "source": [
        "def invidial_cost(task,O,invidiual):\n",
        "    values=0\n",
        "    if(task==\"griewank\"):\n",
        "      values=griewank(invidiual,O)\n",
        "    if(task==\"ackley\"):\n",
        "      values=ackley(invidiual,O)\n",
        "    if(task==\"rastrigin\"):\n",
        "      values=rastrigin(invidiual,O)\n",
        "    if(task==\"weierstrass\"):\n",
        "      values=weierstrass(invidiual,O)\n",
        "    return values"
      ],
      "metadata": {
        "id": "JQighoRXyx3f"
      },
      "execution_count": 12,
      "outputs": []
    },
    {
      "cell_type": "code",
      "source": [
        "def grouping_task(BI):\n",
        "   clusters = bisecting_kmeans(BI, 4)\n",
        "   newclusters=clusters\n",
        "   k=int(len(clusters)/2)\n",
        "   RG=[]\n",
        "   for i in range(len(clusters)):\n",
        "      RG.append({\"a\":clusters[i][0],\"b\":i})\n",
        "   kRG=random.sample(RG, k)\n",
        "   t=k\n",
        "   ERG=[]\n",
        "   for i in range(k):\n",
        "    tRG=random.sample(RG,t)\n",
        "    f=Tasks[kRG[i][\"a\"]][\"function\"]\n",
        "    O=Tasks[kRG[i][\"a\"]][\"O\"]\n",
        "    value=invidial_cost(f,O,BI[clusters[kRG[i][\"b\"]][1]])\n",
        "    cluster=kRG[i][\"b\"]\n",
        "    for x in tRG:\n",
        "      if(invidial_cost(f,O,BI[x[\"a\"]])>value):\n",
        "\n",
        "        value=invidial_cost(f,O,BI[x[\"a\"]])\n",
        "        cluster=x[\"b\"]\n",
        "    if(cluster!=kRG[i][\"b\"]):\n",
        "        invidiual=kRG[i][\"a\"]\n",
        "        for j in range(len(newclusters)):\n",
        "          if invidiual in newclusters[j]:\n",
        "            newclusters[j].remove(invidiual)\n",
        "          if(j==cluster):\n",
        "            newclusters[j].append(invidiual)\n",
        "   return newclusters\n",
        "\n",
        "\n",
        "\n"
      ],
      "metadata": {
        "id": "ahm-JfcK-sra"
      },
      "execution_count": 13,
      "outputs": []
    },
    {
      "cell_type": "code",
      "source": [
        "group=grouping_task(BI)"
      ],
      "metadata": {
        "colab": {
          "base_uri": "https://localhost:8080/"
        },
        "id": "fh-ljDyh3A5M",
        "outputId": "eea83d7e-03f4-4f81-813e-09039c04aa3d"
      },
      "execution_count": 15,
      "outputs": [
        {
          "output_type": "stream",
          "name": "stderr",
          "text": [
            "/usr/local/lib/python3.10/dist-packages/sklearn/cluster/_kmeans.py:870: FutureWarning: The default value of `n_init` will change from 10 to 'auto' in 1.4. Set the value of `n_init` explicitly to suppress the warning\n",
            "  warnings.warn(\n",
            "/usr/local/lib/python3.10/dist-packages/sklearn/cluster/_kmeans.py:870: FutureWarning: The default value of `n_init` will change from 10 to 'auto' in 1.4. Set the value of `n_init` explicitly to suppress the warning\n",
            "  warnings.warn(\n",
            "/usr/local/lib/python3.10/dist-packages/sklearn/cluster/_kmeans.py:870: FutureWarning: The default value of `n_init` will change from 10 to 'auto' in 1.4. Set the value of `n_init` explicitly to suppress the warning\n",
            "  warnings.warn(\n"
          ]
        }
      ]
    },
    {
      "cell_type": "code",
      "source": [
        "def FS(task,O,invidiual,population):\n",
        "  max_f=0;\n",
        "\n",
        "  value=invidial_cost(task,O,invidiual)\n",
        "  min_f=invidial_cost(task,O,population[0])\n",
        "  for i in range(len(population)):\n",
        "    a=invidial_cost(task,O,population[i])\n",
        "    if(max_f<a):\n",
        "      max_f=a\n",
        "    if(min_f>a):\n",
        "      min_f=a\n",
        "  return (value-min_f)/(max_f-min_f)"
      ],
      "metadata": {
        "id": "APY57NHW9djW"
      },
      "execution_count": 16,
      "outputs": []
    },
    {
      "cell_type": "code",
      "source": [
        "def CD(invidiual,population):\n",
        "  neighbor_size=0.4\n",
        "  tong=0\n",
        "  for i in range(len(population)):\n",
        "    absolute_sum = np.sum(np.abs(invidiual-population[i]))\n",
        "    if (absolute_sum<0.4):\n",
        "      tong=tong+(1-absolute_sum)\n",
        "  return tong\n"
      ],
      "metadata": {
        "id": "M7vDVUlHPsXs"
      },
      "execution_count": 17,
      "outputs": []
    },
    {
      "cell_type": "code",
      "source": [
        "def mating_selection(group_task,population_,alpha):\n",
        "  print(len(population_))\n",
        "  np.random.shuffle(population_)\n",
        "  NP=[]\n",
        "  for i in range(len(group_task)):\n",
        "    index_task=group_task[i][0]\n",
        "    f=Tasks[index_task][\"function\"]\n",
        "    O=Tasks[index_task][\"O\"]\n",
        "    for j in range(int(len(population)/2)):\n",
        "      p1=population[2*j]\n",
        "      p2=population[2*j+1]\n",
        "      if ((alpha*FS(f,O,p1,population_)+(1-alpha)*CD(p1,population_))<(alpha*FS(f,O,p1,population_)+(1-alpha)*CD(p1,population_))):\n",
        "        if not any(np.array_equal(p1, x) for x in NP):\n",
        "            NP.append(p1)\n",
        "      else:\n",
        "        if not any(np.array_equal(p2, x) for x in NP):\n",
        "            NP.append(p2)\n",
        "  return NP"
      ],
      "metadata": {
        "id": "JCXBmyAk5-Cp"
      },
      "execution_count": 18,
      "outputs": []
    },
    {
      "cell_type": "code",
      "source": [
        "print(len(population))\n",
        "population=mating_selection(group,population,0.95)"
      ],
      "metadata": {
        "id": "ypSHMRk7ZiZy",
        "colab": {
          "base_uri": "https://localhost:8080/"
        },
        "outputId": "f45b30df-ccbd-4c67-a819-608019d4a0ab"
      },
      "execution_count": 19,
      "outputs": [
        {
          "output_type": "stream",
          "name": "stdout",
          "text": [
            "250\n",
            "250\n"
          ]
        }
      ]
    },
    {
      "cell_type": "code",
      "source": [
        "def get_rank(population):\n",
        "  rank=[]\n",
        "  for i in range(len(Tasks)):\n",
        "    f=Tasks[i][\"function\"]\n",
        "    O=Tasks[i][\"O\"]\n",
        "    value_task=[]\n",
        "    for j in range(len(population)):\n",
        "      invidiual=population[j]\n",
        "      value=invidial_cost(f,O,invidiual)\n",
        "      value_task.append(value)\n",
        "    rank.append(np.argsort(np.argsort(value_task)))\n",
        "  return rank\n"
      ],
      "metadata": {
        "id": "Mr5QpU3u1CrS"
      },
      "execution_count": 20,
      "outputs": []
    },
    {
      "cell_type": "code",
      "source": [
        "print(get_rank(population))"
      ],
      "metadata": {
        "id": "jM3iReniahMK"
      },
      "execution_count": null,
      "outputs": []
    },
    {
      "cell_type": "code",
      "source": [
        "def get_skill_factor(population):\n",
        "  rank=get_rank(population)\n",
        "  skill_factor=[]\n",
        "  for i in range(len(population)):\n",
        "    skill=0\n",
        "    rank_i=rank[0][i]\n",
        "    for j in range(len(rank)):\n",
        "      if(rank[j][i]>rank_i):\n",
        "        skill=j\n",
        "        rank_i=rank[j][i]\n",
        "    skill_factor.append(skill)\n",
        "  return skill_factor\n",
        "skill_factor=get_skill_factor(population)"
      ],
      "metadata": {
        "id": "5OPIfkvNZlPc"
      },
      "execution_count": 22,
      "outputs": []
    },
    {
      "cell_type": "code",
      "source": [
        "def crossover(parent1, parent2):\n",
        "    cf=random.random()\n",
        "    child1 =0.5*( parent1 * (1+cf) + parent2 * (1 - cf))\n",
        "    child2 =0.5*( parent2 * (1+cf) + parent1 * (1 - cf))\n",
        "    return child1, child2"
      ],
      "metadata": {
        "id": "TP8RUO2vee0e"
      },
      "execution_count": 23,
      "outputs": []
    },
    {
      "cell_type": "code",
      "source": [
        "def mutation(individual, mutation_rate, mutation_scale):\n",
        "    mutated_individual = individual.copy()\n",
        "    for i in range(len(mutated_individual)):\n",
        "        if (np.random.rand() < mutation_rate ):\n",
        "            mutated_individual[i] += np.random.normal(scale=mutation_scale)\n",
        "    return mutated_individual"
      ],
      "metadata": {
        "id": "EvOmcN9Hei82"
      },
      "execution_count": 24,
      "outputs": []
    },
    {
      "cell_type": "code",
      "source": [
        "print(group)"
      ],
      "metadata": {
        "id": "IS2PV_kPg7Zk"
      },
      "execution_count": null,
      "outputs": []
    },
    {
      "cell_type": "code",
      "source": [
        "def check_group(skill_factor_1,skill_factor_2):\n",
        "   for i in range(len(group)):\n",
        "    if skill_factor_1 in group[i] and skill_factor_2 in group[i]:\n",
        "      return True\n",
        "   return False\n"
      ],
      "metadata": {
        "id": "lcagzKxGgrI8"
      },
      "execution_count": 26,
      "outputs": []
    },
    {
      "cell_type": "code",
      "source": [
        "def assortative_mating(p1,p2, skill_factor1,skill_factor2):\n",
        "    rmp=0.3\n",
        "    rnd = np.random.rand(1)[0]\n",
        "    if skill_factor1== skill_factor2 or(rnd<0.8 and check_group(skill_factor1,skill_factor2)) or rnd < rmp:\n",
        "      o1,o2=crossover(p1,p2);\n",
        "      random_skill_factor = np.random.rand(1)[0]\n",
        "      if random_skill_factor < 0.5:\n",
        "        return o1,o2,skill_factor1,skill_factor1\n",
        "      else:\n",
        "        return o1,o2,skill_factor2,skill_factor2\n",
        "    else:\n",
        "        o1= p1.copy()\n",
        "        o2 = p2.copy()\n",
        "        o1=mutation(o1,0.1,0.1);\n",
        "        o2=mutation(o2,0.1,0.1);\n",
        "        return o1,o2,skill_factor1,skill_factor2"
      ],
      "metadata": {
        "id": "oOFd8w7Ue66m"
      },
      "execution_count": 27,
      "outputs": []
    },
    {
      "cell_type": "code",
      "source": [
        "def update_CD(population,select_invi,CD):\n",
        "  neighbor_size=0.4\n",
        "\n",
        "  for i in range(len(population)):\n",
        "    invidiual=population[i]\n",
        "    absolute_sum = np.sum(np.abs(invidiual-select_invi))\n",
        "    if (absolute_sum<0.4):\n",
        "      CD[i]=CD[i]+1-absolute_sum\n",
        "  return CD"
      ],
      "metadata": {
        "id": "NHbcpsq1sb_c"
      },
      "execution_count": 28,
      "outputs": []
    },
    {
      "cell_type": "code",
      "source": [
        "def envi_selection(population,Tasks,skill_factor,alpha):\n",
        "  NP=[]\n",
        "  NK=[]\n",
        "  rate=125/len(population)\n",
        "  CD_array=np.zeros(len(population))\n",
        "  for i in range(len(Tasks)):\n",
        "    P_1=population[np.where(skill_factor==i)[0]]\n",
        "    new_CD=CD_array[np.where(skill_factor==i)[0]]\n",
        "    tP=[]\n",
        "    while len(tP)<math.ceil(rate*len(P_1)):\n",
        "      q=P_1[0]\n",
        "      value=alpha*FS(Tasks[i][\"function\"],Tasks[i][\"O\"],q,population)+(1-alpha)*CD(q,population)\n",
        "      for j in range(len(P_1)):\n",
        "        invi=P_1[j]\n",
        "\n",
        "        if(alpha*FS(Tasks[i][\"function\"],Tasks[i][\"O\"],invi,population)+(1-alpha)*new_CD[j]<value):\n",
        "          value=alpha*FS(Tasks[i][\"function\"],Tasks[i][\"O\"],invi,population)+(1-alpha)*new_CD[j]\n",
        "          q=invi\n",
        "      tP.append(q)\n",
        "      CD_array=update_CD(population,q,CD_array)\n",
        "      new_CD=update_CD(P_1,q,new_CD)\n",
        "    for h in range(len(tP)):\n",
        "      NP.append(tP[h])\n",
        "    NK=np.concatenate((NK,[i]*len(tP)))\n",
        "  return NP,NK\n",
        "\n",
        "\n"
      ],
      "metadata": {
        "id": "tQC7JaqcicHK"
      },
      "execution_count": 29,
      "outputs": []
    },
    {
      "cell_type": "code",
      "source": [
        "def Group_MFEA(population,skill_factor):\n",
        "  for i in range(generate):\n",
        "    offspring=[]\n",
        "    skill_factor_offspring=[]\n",
        "    for j in range(math.ceil(len(population)/2)):\n",
        "       random_indices = np.random.choice(np.arange(len(population)), size=2, replace=False)\n",
        "       p1,p2=population[random_indices[0]],population[random_indices[1]]\n",
        "       o1,o2,skill_factor1,skill_factor2=assortative_mating(p1,p2,skill_factor[random_indices[0]],skill_factor[random_indices[1]])\n",
        "       offspring.append(o1)\n",
        "       offspring.append(o2)\n",
        "       skill_factor_offspring.append(skill_factor1)\n",
        "       skill_factor_offspring.append(skill_factor2)\n",
        "    intermediate_pop = np.vstack((population, offspring))\n",
        "    intermediate_skill_factor = np.concatenate((skill_factor,skill_factor_offspring))\n",
        "    population, skill_factor = envi_selection(intermediate_pop,Tasks, intermediate_skill_factor,0.95)\n",
        "    print(len(population))\n",
        "  newBI=best_invidial_matrix(population)\n",
        "  for i in range(len(newBI)):\n",
        "    f=Tasks[i][\"function\"]\n",
        "    O=Tasks[i][\"O\"]\n",
        "    value=invidial_cost(f,O,BI[i])\n",
        "    print(f\"Task {i}: {value}\")"
      ],
      "metadata": {
        "id": "dX7W5gvP4I2g"
      },
      "execution_count": 30,
      "outputs": []
    },
    {
      "cell_type": "code",
      "source": [
        "Group_MFEA(population,skill_factor)"
      ],
      "metadata": {
        "colab": {
          "base_uri": "https://localhost:8080/"
        },
        "id": "kW3NXfON8-BT",
        "outputId": "bc51fa68-3ca9-4995-9ed0-d5a48e404607"
      },
      "execution_count": 31,
      "outputs": [
        {
          "output_type": "stream",
          "name": "stdout",
          "text": [
            "131\n",
            "133\n",
            "135\n",
            "134\n",
            "135\n",
            "135\n",
            "134\n",
            "134\n",
            "135\n",
            "134\n",
            "133\n",
            "135\n",
            "135\n",
            "133\n",
            "136\n",
            "133\n",
            "135\n",
            "134\n",
            "135\n",
            "135\n",
            "134\n",
            "135\n",
            "135\n",
            "135\n",
            "136\n",
            "136\n",
            "134\n",
            "135\n",
            "136\n",
            "135\n",
            "Task 0: 3130.119816705758\n",
            "Task 1: 21.335846245555818\n",
            "Task 2: 21.178867797582875\n",
            "Task 3: 3170.4189091049448\n",
            "Task 4: -12.102199741018097\n",
            "Task 5: 2544.905153493727\n",
            "Task 6: 21.212397493222987\n",
            "Task 7: 904.544383354117\n",
            "Task 8: 2338.6191200785574\n",
            "Task 9: -12.102199741018097\n",
            "Task 10: -13.339240160251828\n",
            "Task 11: 2338.6191200785574\n",
            "Task 12: 904.544383354117\n",
            "Task 13: 2544.905153493727\n",
            "Task 14: 2665.5380786914734\n",
            "Task 15: 2338.6191200785574\n",
            "Task 16: 1047.6770800707054\n",
            "Task 17: -13.237003742798365\n",
            "Task 18: 1047.6770800707054\n",
            "Task 19: -13.236306669472654\n",
            "Task 20: 21.178867797582875\n",
            "Task 21: 2665.5380786914734\n",
            "Task 22: 1047.6770800707054\n",
            "Task 23: -13.236306669472654\n",
            "Task 24: 946.1582591472381\n",
            "Task 25: 21.178867797582875\n",
            "Task 26: 2338.6191200785574\n",
            "Task 27: 3170.4189091049448\n",
            "Task 28: -13.237003742798365\n",
            "Task 29: 1051.5447343781682\n",
            "Task 30: -12.102199741018097\n",
            "Task 31: -13.237003742798365\n",
            "Task 32: -12.102199741018097\n",
            "Task 33: -13.236306669472654\n",
            "Task 34: 2135.4728163954337\n",
            "Task 35: -12.84061207183545\n",
            "Task 36: -13.237003742798365\n",
            "Task 37: 2665.5380786914734\n",
            "Task 38: -13.236306669472654\n",
            "Task 39: -13.339240160251828\n",
            "Task 40: 21.341503011861207\n",
            "Task 41: -12.84061207183545\n",
            "Task 42: 3170.4189091049448\n",
            "Task 43: -13.236306669472654\n",
            "Task 44: 21.341503011861207\n",
            "Task 45: -12.102199741018097\n",
            "Task 46: 1194.7904226220962\n",
            "Task 47: 1051.5447343781682\n",
            "Task 48: 21.179882300410423\n",
            "Task 49: 1051.5447343781682\n"
          ]
        }
      ]
    }
  ]
}